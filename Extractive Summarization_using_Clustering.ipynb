{
  "nbformat": 4,
  "nbformat_minor": 0,
  "metadata": {
    "colab": {
      "provenance": [],
      "gpuType": "T4"
    },
    "kernelspec": {
      "name": "python3",
      "display_name": "Python 3"
    },
    "language_info": {
      "name": "python"
    },
    "accelerator": "GPU"
  },
  "cells": [
    {
      "cell_type": "markdown",
      "source": [
        "## Hierarchical clustering"
      ],
      "metadata": {
        "id": "M_BJz8wbjmjJ"
      }
    },
    {
      "cell_type": "markdown",
      "source": [
        "**Approach 1**\n",
        "\n",
        "*  AgglomerativeClustering with the cosine distance metric and average linkage.\n",
        "*  Selects the sentence that is closest to the centroid of the cluster based on the dot product of the sentence vectors and the centroid.\n",
        "\n"
      ],
      "metadata": {
        "id": "cOrGuW_lVR_L"
      }
    },
    {
      "cell_type": "code",
      "source": [
        "import nltk\n",
        "nltk.download('punkt_tab')"
      ],
      "metadata": {
        "colab": {
          "base_uri": "https://localhost:8080/"
        },
        "id": "tfCZ9Q7EkqFd",
        "outputId": "034a2fda-3a67-4f3d-90f8-47d439bbc49a"
      },
      "execution_count": 6,
      "outputs": [
        {
          "output_type": "stream",
          "name": "stderr",
          "text": [
            "[nltk_data] Downloading package punkt_tab to /root/nltk_data...\n",
            "[nltk_data]   Unzipping tokenizers/punkt_tab.zip.\n"
          ]
        },
        {
          "output_type": "execute_result",
          "data": {
            "text/plain": [
              "True"
            ]
          },
          "metadata": {},
          "execution_count": 6
        }
      ]
    },
    {
      "cell_type": "code",
      "source": [
        "import nltk\n",
        "import numpy as np\n",
        "from sklearn.feature_extraction.text import TfidfVectorizer\n",
        "from sklearn.cluster import AgglomerativeClustering\n",
        "from nltk.tokenize import sent_tokenize"
      ],
      "metadata": {
        "id": "aNT512x1Vdm_"
      },
      "execution_count": 7,
      "outputs": []
    },
    {
      "cell_type": "code",
      "source": [
        "def extractive_summary(text, n_clusters=3):\n",
        "    # Tokenize text into sentences\n",
        "    sentences = sent_tokenize(text)\n",
        "\n",
        "    # Compute TF-IDF representation of the sentences\n",
        "    vectorizer = TfidfVectorizer(stop_words='english')\n",
        "    tfidf_matrix = vectorizer.fit_transform(sentences)\n",
        "\n",
        "    # Perform hierarchical clustering\n",
        "    clustering_model = AgglomerativeClustering(n_clusters=n_clusters, metric='cosine', linkage='average')\n",
        "    clustering_model.fit(tfidf_matrix.toarray())\n",
        "\n",
        "    # Extract representative sentences for each cluster\n",
        "    cluster_centers = {i: [] for i in range(n_clusters)}\n",
        "    for idx, label in enumerate(clustering_model.labels_):\n",
        "        cluster_centers[label].append(idx)\n",
        "\n",
        "    # Select the most central sentence from each cluster\n",
        "    summary_sentences = []\n",
        "    for cluster, indices in cluster_centers.items():\n",
        "        cluster_vectors = tfidf_matrix[indices].toarray()  # Convert sparse to dense\n",
        "        centroid = cluster_vectors.mean(axis=0)  # Centroid as a dense array\n",
        "        similarity_scores = np.dot(cluster_vectors, centroid)  # Dot product\n",
        "        closest_idx = indices[np.argmax(similarity_scores)]  # Index of the most similar sentence\n",
        "        summary_sentences.append(sentences[closest_idx])\n",
        "\n",
        "    # Combine selected sentences to form the summary\n",
        "    summary = \" \".join(summary_sentences)\n",
        "    return summary"
      ],
      "metadata": {
        "id": "rgu6-Po1V4RT"
      },
      "execution_count": 8,
      "outputs": []
    },
    {
      "cell_type": "code",
      "source": [
        "with open(\"computer_lecture.txt\", \"r\") as file:\n",
        "    text = file.read()"
      ],
      "metadata": {
        "id": "D75q2ncuV7IC"
      },
      "execution_count": 9,
      "outputs": []
    },
    {
      "cell_type": "code",
      "source": [
        "summary = extractive_summary(text, n_clusters=3)\n",
        "print(\"Extractive Summary:\\n\", summary)"
      ],
      "metadata": {
        "colab": {
          "base_uri": "https://localhost:8080/"
        },
        "id": "H7Bg9E4rV9YQ",
        "outputId": "724b5ffa-cffb-4b7f-b5de-7f1f86f0f049"
      },
      "execution_count": 10,
      "outputs": [
        {
          "output_type": "stream",
          "name": "stdout",
          "text": [
            "Extractive Summary:\n",
            " By understanding their capabilities and limitations, we can harness their potential to create a better world. This involves a sequence of electrical signals that represent the numbers 0 and 1. However, the widespread use of computers is not without challenges.\n"
          ]
        }
      ]
    },
    {
      "cell_type": "markdown",
      "source": [
        "**Approach 2**\n",
        "\n",
        "*    AgglomerativeClustering with the cosine distance metric and average linkage.\n",
        "*   Selects the sentence with the highest TF-IDF score within the cluster (sum of TF-IDF values for each term in the sentence).\n"
      ],
      "metadata": {
        "id": "NzppeBJDWDWE"
      }
    },
    {
      "cell_type": "code",
      "source": [
        "import nltk\n",
        "import numpy as np\n",
        "from sklearn.feature_extraction.text import TfidfVectorizer\n",
        "from sklearn.cluster import AgglomerativeClustering\n",
        "from nltk.tokenize import sent_tokenize"
      ],
      "metadata": {
        "id": "ZVl1SrxsWh1n"
      },
      "execution_count": 11,
      "outputs": []
    },
    {
      "cell_type": "code",
      "source": [
        "def extractive_summary(text, n_clusters=5):\n",
        "    # Tokenize text into sentences\n",
        "    sentences = sent_tokenize(text)\n",
        "\n",
        "    # Compute TF-IDF representation of the sentences\n",
        "    vectorizer = TfidfVectorizer(stop_words='english')\n",
        "    tfidf_matrix = vectorizer.fit_transform(sentences)\n",
        "\n",
        "    # Perform hierarchical clustering\n",
        "    clustering_model = AgglomerativeClustering(n_clusters=n_clusters, metric='cosine', linkage='average')\n",
        "    clustering_model.fit(tfidf_matrix.toarray())\n",
        "\n",
        "    # Extract representative sentences for each cluster\n",
        "    cluster_centers = {i: [] for i in range(n_clusters)}\n",
        "    for idx, label in enumerate(clustering_model.labels_):\n",
        "        cluster_centers[label].append(idx)\n",
        "\n",
        "    # Select the highest TF-IDF scoring sentence from each cluster\n",
        "    summary_sentences = []\n",
        "    for cluster, indices in cluster_centers.items():\n",
        "        cluster_vectors = tfidf_matrix[indices].toarray()\n",
        "        sentence_scores = cluster_vectors.sum(axis=1)  # Sum of TF-IDF values as a score\n",
        "        best_sentence_idx = indices[np.argmax(sentence_scores)]\n",
        "        summary_sentences.append(sentences[best_sentence_idx])\n",
        "\n",
        "    # Combine selected sentences to form the summary\n",
        "    summary = \" \".join(summary_sentences)\n",
        "    return summary"
      ],
      "metadata": {
        "id": "YEvk02_BZtNS"
      },
      "execution_count": 12,
      "outputs": []
    },
    {
      "cell_type": "code",
      "source": [
        "with open(\"computer_lecture.txt\", \"r\") as file:\n",
        "    text = file.read()"
      ],
      "metadata": {
        "id": "0kcB5-UzZuK_"
      },
      "execution_count": 13,
      "outputs": []
    },
    {
      "cell_type": "code",
      "source": [
        "summary = extractive_summary(text, n_clusters=3)\n",
        "print(\"Extractive Summary:\\n\", summary)"
      ],
      "metadata": {
        "colab": {
          "base_uri": "https://localhost:8080/"
        },
        "id": "yFB45w22ZxvY",
        "outputId": "5796bdad-068b-4ef0-d93c-60fa9c08ceee"
      },
      "execution_count": 14,
      "outputs": [
        {
          "output_type": "stream",
          "name": "stdout",
          "text": [
            "Extractive Summary:\n",
            " Innovations such as quantum computing and advanced artificial intelligence promise to redefine our understanding of computation and problem-solving. This involves a sequence of electrical signals that represent the numbers 0 and 1. Today, billions of devices are connected via the internet, forming a global network that has fostered innovation and connectivity.\n"
          ]
        }
      ]
    },
    {
      "cell_type": "markdown",
      "source": [
        "# Clustering using Elbow method"
      ],
      "metadata": {
        "id": "gA-AJkdPZzGM"
      }
    },
    {
      "cell_type": "markdown",
      "source": [
        "**Approach 1: Manually specifying the number of clusters**\n",
        "\n",
        "\n",
        "*   The number of clusters is fixed by the user (set as n_clusters). The number of clusters needs to be determined manually before running the code.\n",
        "*   The elbow method is plotted for a range of clusters (2 to 10), but the number of clusters is manually set afterward(here 4)\n",
        "*   For each cluster, the sentence with the highest sum of TF-IDF scores is selected as a representative sentence.\n",
        "*   Distortion (average cosine distance) is calculated for each number of clusters, but it's done for each cluster individually.\n",
        "*   Works with sparse TF-IDF matrices directly when calculating distortions and performing clustering.\n",
        "\n",
        "\n",
        "\n",
        "\n",
        "\n"
      ],
      "metadata": {
        "id": "84gUloMwg2ay"
      }
    },
    {
      "cell_type": "code",
      "source": [
        "import nltk\n",
        "import numpy as np\n",
        "import matplotlib.pyplot as plt\n",
        "from sklearn.feature_extraction.text import TfidfVectorizer\n",
        "from sklearn.cluster import AgglomerativeClustering\n",
        "from nltk.tokenize import sent_tokenize\n",
        "from scipy.spatial.distance import cdist"
      ],
      "metadata": {
        "id": "ya8bVQ3hZ7Go"
      },
      "execution_count": 15,
      "outputs": []
    },
    {
      "cell_type": "code",
      "source": [
        "def plot_elbow_method(tfidf_matrix, max_clusters=10):\n",
        "    distortions = []\n",
        "    cluster_range = range(2, max_clusters + 1)\n",
        "\n",
        "    for k in cluster_range:\n",
        "        clustering_model = AgglomerativeClustering(n_clusters=k, metric='cosine', linkage='average')\n",
        "        clustering_model.fit(tfidf_matrix.toarray())\n",
        "\n",
        "        # Calculate the distortion: average cosine distance to the cluster center\n",
        "        cluster_distortions = []\n",
        "        labels = clustering_model.labels_\n",
        "        for label in np.unique(labels):\n",
        "            cluster_points = tfidf_matrix[labels == label]\n",
        "            centroid = cluster_points.mean(axis=0).A.flatten()  # Convert sparse matrix to dense array\n",
        "            cluster_distortions.append(cdist(cluster_points.toarray(), [centroid], metric=\"cosine\").mean())\n",
        "\n",
        "        distortions.append(np.mean(cluster_distortions))\n",
        "\n",
        "    # Plot the elbow curve\n",
        "    plt.figure(figsize=(8, 5))\n",
        "    plt.plot(cluster_range, distortions, marker='o', linestyle='--')\n",
        "    plt.xlabel('Number of Clusters')\n",
        "    plt.ylabel('Average Distortion')\n",
        "    plt.title('Elbow Method for Optimal Clusters')\n",
        "    plt.show()\n",
        "    return distortions\n"
      ],
      "metadata": {
        "id": "SjkZUukSaABZ"
      },
      "execution_count": 16,
      "outputs": []
    },
    {
      "cell_type": "code",
      "source": [
        "def extractive_summary(text, n_clusters):\n",
        "    # Tokenize text into sentences\n",
        "    sentences = sent_tokenize(text)\n",
        "\n",
        "    # Compute TF-IDF representation of the sentences\n",
        "    vectorizer = TfidfVectorizer(stop_words='english')\n",
        "    tfidf_matrix = vectorizer.fit_transform(sentences)\n",
        "\n",
        "    # Perform hierarchical clustering\n",
        "    clustering_model = AgglomerativeClustering(n_clusters=n_clusters, metric='cosine', linkage='average')\n",
        "    clustering_model.fit(tfidf_matrix.toarray())\n",
        "\n",
        "    # Extract representative sentences for each cluster\n",
        "    cluster_centers = {i: [] for i in range(n_clusters)}\n",
        "    for idx, label in enumerate(clustering_model.labels_):\n",
        "        cluster_centers[label].append(idx)\n",
        "\n",
        "    # Select the highest TF-IDF scoring sentence from each cluster\n",
        "    summary_sentences = []\n",
        "    for cluster, indices in cluster_centers.items():\n",
        "        cluster_vectors = tfidf_matrix[indices].toarray()\n",
        "        sentence_scores = cluster_vectors.sum(axis=1)  # Sum of TF-IDF values as a score\n",
        "        best_sentence_idx = indices[np.argmax(sentence_scores)]\n",
        "        summary_sentences.append(sentences[best_sentence_idx])\n",
        "\n",
        "    # Combine selected sentences to form the summary\n",
        "    summary = \" \".join(summary_sentences)\n",
        "    return summary"
      ],
      "metadata": {
        "id": "0Wl78ItYaRM7"
      },
      "execution_count": 17,
      "outputs": []
    },
    {
      "cell_type": "code",
      "source": [
        "with open(\"computer_lecture.txt\", \"r\") as file:\n",
        "    text = file.read()"
      ],
      "metadata": {
        "id": "RSFpUH-GagFx"
      },
      "execution_count": 18,
      "outputs": []
    },
    {
      "cell_type": "code",
      "source": [
        "# Tokenize text into sentences and compute TF-IDF matrix\n",
        "sentences = sent_tokenize(text)\n",
        "vectorizer = TfidfVectorizer(stop_words='english')\n",
        "tfidf_matrix = vectorizer.fit_transform(sentences)"
      ],
      "metadata": {
        "id": "1b4U6aj9ag10"
      },
      "execution_count": 19,
      "outputs": []
    },
    {
      "cell_type": "code",
      "source": [
        "# Plot elbow method to find the optimal number of clusters\n",
        "plot_elbow_method(tfidf_matrix)"
      ],
      "metadata": {
        "colab": {
          "base_uri": "https://localhost:8080/",
          "height": 643
        },
        "id": "vmivMgaDai00",
        "outputId": "ed100900-9b3a-4148-85fa-18a2e468f9c9"
      },
      "execution_count": 20,
      "outputs": [
        {
          "output_type": "display_data",
          "data": {
            "text/plain": [
              "<Figure size 800x500 with 1 Axes>"
            ],
            "image/png": "[encoded data removed]"
          },
          "metadata": {}
        },
        {
          "output_type": "execute_result",
          "data": {
            "text/plain": [
              "[0.37284401063006567,\n",
              " 0.42488937067944715,\n",
              " 0.37884695307944083,\n",
              " 0.393104558424,\n",
              " 0.33491296713152746,\n",
              " 0.30523333121180624,\n",
              " 0.3109788740171165,\n",
              " 0.293384378676052,\n",
              " 0.2664787699486916]"
            ]
          },
          "metadata": {},
          "execution_count": 20
        }
      ]
    },
    {
      "cell_type": "code",
      "source": [
        "# Set the number of clusters based on the elbow plot\n",
        "n_clusters = 4\n",
        "summary = extractive_summary(text, n_clusters=n_clusters)\n",
        "print(\"Extractive Summary:\\n\", summary)"
      ],
      "metadata": {
        "colab": {
          "base_uri": "https://localhost:8080/"
        },
        "id": "pDfEuwLXaqBM",
        "outputId": "c3e61c37-215b-4d84-fc7c-c5628ad364d7"
      },
      "execution_count": 21,
      "outputs": [
        {
          "output_type": "stream",
          "name": "stdout",
          "text": [
            "Extractive Summary:\n",
            " Today, billions of devices are connected via the internet, forming a global network that has fostered innovation and connectivity. By understanding their capabilities and limitations, we can harness their potential to create a better world. Innovations such as quantum computing and advanced artificial intelligence promise to redefine our understanding of computation and problem-solving. This involves a sequence of electrical signals that represent the numbers 0 and 1.\n"
          ]
        }
      ]
    },
    {
      "cell_type": "markdown",
      "source": [
        "**Approach 2: Dynamically selecting the number of clusters**\n",
        "\n",
        "*   The number of clusters is dynamically determined based on the elbow method.\n",
        "*   The plot_elbow_method function calculates distortions for different cluster counts, and the code selects the optimal cluster count automatically by finding the \"elbow\" in the distortion graph.\n",
        "*   The elbow point is where the distortion starts to decrease at a slower rate, suggesting the optimal number of clusters.\n",
        "*   The elbow plot is calculated for the entire range (1 to 10) and used to dynamically choose the best number of clusters. It analyzes the change in distortions (np.diff) and automatically selects the optimal number of clusters, which can be more efficient in finding the best number of clusters.\n",
        "*   The centroid of the cluster is computed, and the sentence closest to the centroid (based on cosine distance) is selected. The sentences are then sorted based on their relevance (cosine similarity score) and added to the summary in that order. This adds a layer of ranking by relevance.\n",
        "*   Calculates the cosine distance to the centroid for each cluster and selects the sentence closest to the centroid. This allows for a more precise selection of key sentences based on their relevance to the cluster's central theme.\n",
        "*   Converts the sparse TF-IDF matrix to a dense format (toarray()) for clustering and centroid calculation, which could result in higher memory consumption for larger texts.\n",
        "\n",
        "\n",
        "\n",
        "\n",
        "\n",
        "\n",
        "\n"
      ],
      "metadata": {
        "id": "1fZx8Pdlh2fU"
      }
    },
    {
      "cell_type": "code",
      "source": [
        "import nltk\n",
        "import numpy as np\n",
        "from sklearn.feature_extraction.text import TfidfVectorizer\n",
        "from sklearn.cluster import AgglomerativeClustering\n",
        "from scipy.spatial.distance import cdist\n",
        "from nltk.tokenize import sent_tokenize\n",
        "import matplotlib.pyplot as plt"
      ],
      "metadata": {
        "id": "pDs1SXGXjEcE"
      },
      "execution_count": 22,
      "outputs": []
    },
    {
      "cell_type": "code",
      "source": [
        "nltk.download('punkt')"
      ],
      "metadata": {
        "colab": {
          "base_uri": "https://localhost:8080/"
        },
        "id": "92yxWwGMjPwc",
        "outputId": "d297b866-b436-4e83-b4c6-28cc741b58f9"
      },
      "execution_count": 23,
      "outputs": [
        {
          "output_type": "stream",
          "name": "stderr",
          "text": [
            "[nltk_data] Downloading package punkt to /root/nltk_data...\n",
            "[nltk_data]   Package punkt is already up-to-date!\n"
          ]
        },
        {
          "output_type": "execute_result",
          "data": {
            "text/plain": [
              "True"
            ]
          },
          "metadata": {},
          "execution_count": 23
        }
      ]
    },
    {
      "cell_type": "code",
      "source": [
        "def plot_elbow_method(tfidf_matrix, max_clusters=10):\n",
        "    distortions = []\n",
        "    dense_tfidf = tfidf_matrix.toarray()  # Convert sparse matrix to dense\n",
        "\n",
        "    for n_clusters in range(1, max_clusters + 1):\n",
        "        clustering_model = AgglomerativeClustering(n_clusters=n_clusters, metric='cosine', linkage='average')\n",
        "        clustering_model.fit(dense_tfidf)\n",
        "\n",
        "        cluster_distortions = []\n",
        "        for label in set(clustering_model.labels_):\n",
        "            cluster_points = dense_tfidf[np.array(clustering_model.labels_) == label]\n",
        "            centroid = cluster_points.mean(axis=0, keepdims=True)  # Keepdims to maintain shape\n",
        "            cluster_distortions.append(cdist(cluster_points, centroid, metric=\"cosine\").mean())\n",
        "\n",
        "        distortions.append(np.mean(cluster_distortions))\n",
        "\n",
        "    # Plot the elbow curve\n",
        "    plt.figure(figsize=(8, 5))\n",
        "    plt.plot(range(1, max_clusters + 1), distortions, marker='o')\n",
        "    plt.title(\"Elbow Method for Optimal Clusters\")\n",
        "    plt.xlabel(\"Number of Clusters\")\n",
        "    plt.ylabel(\"Distortion\")\n",
        "    plt.show()\n",
        "\n",
        "    return distortions"
      ],
      "metadata": {
        "id": "_nkimhcfjPzS"
      },
      "execution_count": 24,
      "outputs": []
    },
    {
      "cell_type": "code",
      "source": [
        "def extractive_summary(text, max_clusters=10):\n",
        "    # Tokenize text into sentences\n",
        "    sentences = sent_tokenize(text)\n",
        "\n",
        "    # Compute TF-IDF representation of the sentences\n",
        "    vectorizer = TfidfVectorizer(stop_words='english')\n",
        "    tfidf_matrix = vectorizer.fit_transform(sentences)\n",
        "\n",
        "    # Find the optimal number of clusters dynamically\n",
        "    distortions = plot_elbow_method(tfidf_matrix, max_clusters=max_clusters)\n",
        "\n",
        "    # Automatically determine the optimal number of clusters by checking the \"elbow\"\n",
        "    diffs = np.diff(distortions)\n",
        "    optimal_clusters = np.argmin(diffs) + 2  # Elbow appears at the point where the drop in distortion is largest\n",
        "\n",
        "    # Perform hierarchical clustering\n",
        "    dense_tfidf = tfidf_matrix.toarray()  # Convert sparse matrix to dense\n",
        "    clustering_model = AgglomerativeClustering(n_clusters=optimal_clusters, metric='cosine', linkage='average')\n",
        "    clustering_model.fit(dense_tfidf)\n",
        "\n",
        "    # Extract representative sentences for each cluster\n",
        "    summary_sentences = []\n",
        "    selected_indices = set()\n",
        "    for label in range(optimal_clusters):\n",
        "        cluster_indices = [i for i, lbl in enumerate(clustering_model.labels_) if lbl == label]\n",
        "        cluster_vectors = dense_tfidf[cluster_indices]\n",
        "        centroid = cluster_vectors.mean(axis=0, keepdims=True)\n",
        "        similarity_scores = cdist(cluster_vectors, centroid, metric=\"cosine\").flatten()\n",
        "\n",
        "        # Select the sentence closest to the centroid\n",
        "        representative_idx = cluster_indices[np.argmin(similarity_scores)]\n",
        "        if representative_idx not in selected_indices:\n",
        "            summary_sentences.append((similarity_scores.min(), sentences[representative_idx]))\n",
        "            selected_indices.add(representative_idx)\n",
        "\n",
        "    # Sort selected sentences by relevance\n",
        "    summary_sentences.sort(key=lambda x: x[0])  # Sort by similarity score\n",
        "    summary = \" \".join([sent for _, sent in summary_sentences])\n",
        "    return summary"
      ],
      "metadata": {
        "id": "9fYFRLJpjP1x"
      },
      "execution_count": 25,
      "outputs": []
    },
    {
      "cell_type": "code",
      "source": [
        "# Example usage\n",
        "with open(\"computer_lecture.txt\", \"r\") as file:\n",
        "    text = file.read()"
      ],
      "metadata": {
        "id": "nhwzNP4ejP4e"
      },
      "execution_count": 26,
      "outputs": []
    },
    {
      "cell_type": "code",
      "source": [
        "summary = extractive_summary(text, max_clusters=10)\n",
        "print(\"Extractive Summary:\\n\", summary)"
      ],
      "metadata": {
        "colab": {
          "base_uri": "https://localhost:8080/",
          "height": 522
        },
        "id": "lP8RKTiEjP7h",
        "outputId": "7aca4d00-7be7-444e-9a04-ea54ca74721a"
      },
      "execution_count": 27,
      "outputs": [
        {
          "output_type": "display_data",
          "data": {
            "text/plain": [
              "<Figure size 800x500 with 1 Axes>"
            ],
            "image/png": "[encoded data removed]"
          },
          "metadata": {}
        },
        {
          "output_type": "stream",
          "name": "stdout",
          "text": [
            "Extractive Summary:\n",
            " This involves a sequence of electrical signals that represent the numbers 0 and 1. However, the widespread use of computers is not without challenges.\n"
          ]
        }
      ]
    }
  ]
}